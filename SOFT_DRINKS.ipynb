{
  "nbformat": 4,
  "nbformat_minor": 0,
  "metadata": {
    "colab": {
      "provenance": [],
      "authorship_tag": "ABX9TyNbjRHbustEzMck6IlPAk83",
      "include_colab_link": true
    },
    "kernelspec": {
      "name": "python3",
      "display_name": "Python 3"
    },
    "language_info": {
      "name": "python"
    }
  },
  "cells": [
    {
      "cell_type": "markdown",
      "metadata": {
        "id": "view-in-github",
        "colab_type": "text"
      },
      "source": [
        "<a href=\"https://colab.research.google.com/github/Yash55-max/StockBot/blob/main/SOFT_DRINKS.ipynb\" target=\"_parent\"><img src=\"https://colab.research.google.com/assets/colab-badge.svg\" alt=\"Open In Colab\"/></a>"
      ]
    },
    {
      "cell_type": "code",
      "execution_count": 27,
      "metadata": {
        "colab": {
          "base_uri": "https://localhost:8080/"
        },
        "id": "ly7UsWxJ-9gr",
        "outputId": "e208da81-3f93-42c3-9b7f-c7aebba27c3d"
      },
      "outputs": [
        {
          "output_type": "stream",
          "name": "stdout",
          "text": [
            "Initial Stock:\n",
            "    | Brand    | Volume | Quantity | Price |\n",
            "0   | -------- | ------ | -------- | ----- |\n",
            "1   | Sprite   | 100    | 12       | 10    |\n",
            "2   | Sprite   | 200    | 10       | 20    |\n",
            "3   | Sprite   | 250    | 8        | 25    |\n",
            "4   | ThumsUp  | 100    | 15       | 12    |\n",
            "5   | ThumsUp  | 200    | 12       | 22    |\n",
            "6   | ThumsUp  | 250    | 9        | 27    |\n",
            "7   | Pepsi    | 100    | 20       | 11    |\n",
            "8   | Pepsi    | 200    | 18       | 21    |\n",
            "9   | Pepsi    | 250    | 16       | 26    |\n",
            "10  | CocaCola | 100    | 14       | 11    |\n",
            "11  | CocaCola | 200    | 11       | 21    |\n",
            "12  | CocaCola | 250    | 10       | 26    |\n",
            "13  | Fanta    | 100    | 13       | 10    |\n",
            "14  | Fanta    | 200    | 9        | 19    |\n",
            "15  | Fanta    | 250    | 7        | 24    |\n"
          ]
        }
      ],
      "source": [
        "import pandas as pd\n",
        "\n",
        "# Load your uploaded CSV (update file name if needed)\n",
        "# Added 'header=0' to correctly identify the first row as the header\n",
        "df = pd.read_csv('/content/tableConvert.com_9zcqck.csv', header=0)\n",
        "\n",
        "# Show initial stock\n",
        "print(\"Initial Stock:\")\n",
        "print(df)"
      ]
    },
    {
      "cell_type": "code",
      "source": [
        "def update_stock(dataframe, sold_input):\n",
        "    words = sold_input.lower().split()\n",
        "\n",
        "    brand = None\n",
        "    volume = None\n",
        "\n",
        "    for word in words:\n",
        "        if word.isdigit():\n",
        "            volume = int(word)\n",
        "        else:\n",
        "            brand = word.capitalize()\n",
        "\n",
        "    # Find the actual column names for Brand and Volume\n",
        "    brand_col = None\n",
        "    volume_col = None\n",
        "    for col in dataframe.columns:\n",
        "        if 'brand' in col.lower().strip():\n",
        "            brand_col = col\n",
        "        if 'volume' in col.lower().strip():\n",
        "            volume_col = col\n",
        "\n",
        "    if not brand_col or not volume_col:\n",
        "        return dataframe, \"Could not find 'Brand' or 'Volume' columns in the DataFrame.\"\n",
        "\n",
        "    # Match the item using the identified column names\n",
        "    mask = (dataframe[brand_col].astype(str).str.lower().str.strip() == brand.lower()) & (dataframe[volume_col].astype(str).str.strip() == str(volume))\n",
        "\n",
        "    if mask.any():\n",
        "        idx = dataframe[mask].index[0]\n",
        "        if dataframe.loc[idx, 'Quantity'] > 0:\n",
        "            dataframe.loc[idx, 'Quantity'] -= 1\n",
        "            price = dataframe.loc[idx, 'Price'] # Assuming 'Price' column name is correct\n",
        "            return dataframe, f\"{brand} {volume} ml has been removed from stock. Price was ₹{price}.\"\n",
        "        else:\n",
        "            return dataframe, f\"{brand} {volume} ml is out of stock.\"\n",
        "    else:\n",
        "        return dataframe, f\"{brand} {volume} ml not found in stock.\""
      ],
      "metadata": {
        "id": "gLEZSkxFBgCe"
      },
      "execution_count": 22,
      "outputs": []
    },
    {
      "cell_type": "code",
      "source": [
        "df = pd.read_csv('/content/tableConvert.com_9zcqck.csv')\n",
        "df.columns = df.columns.str.strip()\n"
      ],
      "metadata": {
        "id": "U4f8uU5pBl9l"
      },
      "execution_count": 13,
      "outputs": []
    },
    {
      "cell_type": "code",
      "source": [
        "sold_item = \"Sprite 200\"\n",
        "df, message = update_stock(df, sold_item)\n",
        "print(message)\n",
        "print(df)\n"
      ],
      "metadata": {
        "colab": {
          "base_uri": "https://localhost:8080/"
        },
        "id": "yUux_b3CHyIO",
        "outputId": "77b7add2-1631-4495-b93a-6e29b10bc547"
      },
      "execution_count": 119,
      "outputs": [
        {
          "output_type": "stream",
          "name": "stdout",
          "text": [
            "Invalid input format. Expected: Brand Volume Quantity\n",
            "       Brand  Volume  Quantity  Price\n",
            "0     Sprite     100       114     10\n",
            "1     Sprite     200       198     20\n",
            "2     Sprite     250        80     25\n",
            "3    ThumsUp     100       115     12\n",
            "4    ThumsUp     200       120     22\n",
            "5    ThumsUp     250        90     27\n",
            "6      Pepsi     100       120     11\n",
            "7      Pepsi     200       180     21\n",
            "8      Pepsi     250       160     26\n",
            "9   CocaCola     100       114     11\n",
            "10  CocaCola     200       101     21\n",
            "11  CocaCola     250       180     26\n",
            "12     Fanta     100       135     10\n",
            "13     Fanta     200        90     19\n",
            "14     Fanta     250       171     24\n"
          ]
        }
      ]
    },
    {
      "cell_type": "code",
      "source": [
        "from google.colab import files\n",
        "uploaded = files.upload()\n"
      ],
      "metadata": {
        "colab": {
          "base_uri": "https://localhost:8080/",
          "height": 73
        },
        "id": "4cY9VD88JEBB",
        "outputId": "0073dd05-7a29-4d85-e397-0b1189a1be37"
      },
      "execution_count": 53,
      "outputs": [
        {
          "output_type": "display_data",
          "data": {
            "text/plain": [
              "<IPython.core.display.HTML object>"
            ],
            "text/html": [
              "\n",
              "     <input type=\"file\" id=\"files-372c12a9-f685-4fe3-9c2e-45b556f9afa0\" name=\"files[]\" multiple disabled\n",
              "        style=\"border:none\" />\n",
              "     <output id=\"result-372c12a9-f685-4fe3-9c2e-45b556f9afa0\">\n",
              "      Upload widget is only available when the cell has been executed in the\n",
              "      current browser session. Please rerun this cell to enable.\n",
              "      </output>\n",
              "      <script>// Copyright 2017 Google LLC\n",
              "//\n",
              "// Licensed under the Apache License, Version 2.0 (the \"License\");\n",
              "// you may not use this file except in compliance with the License.\n",
              "// You may obtain a copy of the License at\n",
              "//\n",
              "//      http://www.apache.org/licenses/LICENSE-2.0\n",
              "//\n",
              "// Unless required by applicable law or agreed to in writing, software\n",
              "// distributed under the License is distributed on an \"AS IS\" BASIS,\n",
              "// WITHOUT WARRANTIES OR CONDITIONS OF ANY KIND, either express or implied.\n",
              "// See the License for the specific language governing permissions and\n",
              "// limitations under the License.\n",
              "\n",
              "/**\n",
              " * @fileoverview Helpers for google.colab Python module.\n",
              " */\n",
              "(function(scope) {\n",
              "function span(text, styleAttributes = {}) {\n",
              "  const element = document.createElement('span');\n",
              "  element.textContent = text;\n",
              "  for (const key of Object.keys(styleAttributes)) {\n",
              "    element.style[key] = styleAttributes[key];\n",
              "  }\n",
              "  return element;\n",
              "}\n",
              "\n",
              "// Max number of bytes which will be uploaded at a time.\n",
              "const MAX_PAYLOAD_SIZE = 100 * 1024;\n",
              "\n",
              "function _uploadFiles(inputId, outputId) {\n",
              "  const steps = uploadFilesStep(inputId, outputId);\n",
              "  const outputElement = document.getElementById(outputId);\n",
              "  // Cache steps on the outputElement to make it available for the next call\n",
              "  // to uploadFilesContinue from Python.\n",
              "  outputElement.steps = steps;\n",
              "\n",
              "  return _uploadFilesContinue(outputId);\n",
              "}\n",
              "\n",
              "// This is roughly an async generator (not supported in the browser yet),\n",
              "// where there are multiple asynchronous steps and the Python side is going\n",
              "// to poll for completion of each step.\n",
              "// This uses a Promise to block the python side on completion of each step,\n",
              "// then passes the result of the previous step as the input to the next step.\n",
              "function _uploadFilesContinue(outputId) {\n",
              "  const outputElement = document.getElementById(outputId);\n",
              "  const steps = outputElement.steps;\n",
              "\n",
              "  const next = steps.next(outputElement.lastPromiseValue);\n",
              "  return Promise.resolve(next.value.promise).then((value) => {\n",
              "    // Cache the last promise value to make it available to the next\n",
              "    // step of the generator.\n",
              "    outputElement.lastPromiseValue = value;\n",
              "    return next.value.response;\n",
              "  });\n",
              "}\n",
              "\n",
              "/**\n",
              " * Generator function which is called between each async step of the upload\n",
              " * process.\n",
              " * @param {string} inputId Element ID of the input file picker element.\n",
              " * @param {string} outputId Element ID of the output display.\n",
              " * @return {!Iterable<!Object>} Iterable of next steps.\n",
              " */\n",
              "function* uploadFilesStep(inputId, outputId) {\n",
              "  const inputElement = document.getElementById(inputId);\n",
              "  inputElement.disabled = false;\n",
              "\n",
              "  const outputElement = document.getElementById(outputId);\n",
              "  outputElement.innerHTML = '';\n",
              "\n",
              "  const pickedPromise = new Promise((resolve) => {\n",
              "    inputElement.addEventListener('change', (e) => {\n",
              "      resolve(e.target.files);\n",
              "    });\n",
              "  });\n",
              "\n",
              "  const cancel = document.createElement('button');\n",
              "  inputElement.parentElement.appendChild(cancel);\n",
              "  cancel.textContent = 'Cancel upload';\n",
              "  const cancelPromise = new Promise((resolve) => {\n",
              "    cancel.onclick = () => {\n",
              "      resolve(null);\n",
              "    };\n",
              "  });\n",
              "\n",
              "  // Wait for the user to pick the files.\n",
              "  const files = yield {\n",
              "    promise: Promise.race([pickedPromise, cancelPromise]),\n",
              "    response: {\n",
              "      action: 'starting',\n",
              "    }\n",
              "  };\n",
              "\n",
              "  cancel.remove();\n",
              "\n",
              "  // Disable the input element since further picks are not allowed.\n",
              "  inputElement.disabled = true;\n",
              "\n",
              "  if (!files) {\n",
              "    return {\n",
              "      response: {\n",
              "        action: 'complete',\n",
              "      }\n",
              "    };\n",
              "  }\n",
              "\n",
              "  for (const file of files) {\n",
              "    const li = document.createElement('li');\n",
              "    li.append(span(file.name, {fontWeight: 'bold'}));\n",
              "    li.append(span(\n",
              "        `(${file.type || 'n/a'}) - ${file.size} bytes, ` +\n",
              "        `last modified: ${\n",
              "            file.lastModifiedDate ? file.lastModifiedDate.toLocaleDateString() :\n",
              "                                    'n/a'} - `));\n",
              "    const percent = span('0% done');\n",
              "    li.appendChild(percent);\n",
              "\n",
              "    outputElement.appendChild(li);\n",
              "\n",
              "    const fileDataPromise = new Promise((resolve) => {\n",
              "      const reader = new FileReader();\n",
              "      reader.onload = (e) => {\n",
              "        resolve(e.target.result);\n",
              "      };\n",
              "      reader.readAsArrayBuffer(file);\n",
              "    });\n",
              "    // Wait for the data to be ready.\n",
              "    let fileData = yield {\n",
              "      promise: fileDataPromise,\n",
              "      response: {\n",
              "        action: 'continue',\n",
              "      }\n",
              "    };\n",
              "\n",
              "    // Use a chunked sending to avoid message size limits. See b/62115660.\n",
              "    let position = 0;\n",
              "    do {\n",
              "      const length = Math.min(fileData.byteLength - position, MAX_PAYLOAD_SIZE);\n",
              "      const chunk = new Uint8Array(fileData, position, length);\n",
              "      position += length;\n",
              "\n",
              "      const base64 = btoa(String.fromCharCode.apply(null, chunk));\n",
              "      yield {\n",
              "        response: {\n",
              "          action: 'append',\n",
              "          file: file.name,\n",
              "          data: base64,\n",
              "        },\n",
              "      };\n",
              "\n",
              "      let percentDone = fileData.byteLength === 0 ?\n",
              "          100 :\n",
              "          Math.round((position / fileData.byteLength) * 100);\n",
              "      percent.textContent = `${percentDone}% done`;\n",
              "\n",
              "    } while (position < fileData.byteLength);\n",
              "  }\n",
              "\n",
              "  // All done.\n",
              "  yield {\n",
              "    response: {\n",
              "      action: 'complete',\n",
              "    }\n",
              "  };\n",
              "}\n",
              "\n",
              "scope.google = scope.google || {};\n",
              "scope.google.colab = scope.google.colab || {};\n",
              "scope.google.colab._files = {\n",
              "  _uploadFiles,\n",
              "  _uploadFilesContinue,\n",
              "};\n",
              "})(self);\n",
              "</script> "
            ]
          },
          "metadata": {}
        },
        {
          "output_type": "stream",
          "name": "stdout",
          "text": [
            "Saving 6_Aug,_9.42_pm​[1].wav to 6_Aug,_9.42_pm​[1] (1).wav\n"
          ]
        }
      ]
    },
    {
      "cell_type": "code",
      "source": [
        "file_name = list(uploaded.keys())[0]  # e.g., 'sprite2502.wav'\n",
        "sold_item = speech_to_text(file_name)\n"
      ],
      "metadata": {
        "colab": {
          "base_uri": "https://localhost:8080/"
        },
        "id": "K06GgnxELGgV",
        "outputId": "dcd01c09-7b9c-4aa0-ea1b-2fe0c5fc2cae"
      },
      "execution_count": 55,
      "outputs": [
        {
          "output_type": "stream",
          "name": "stdout",
          "text": [
            "Recognized Speech: Sprite hundred two\n"
          ]
        }
      ]
    },
    {
      "cell_type": "code",
      "source": [
        "!pip install word2number\n"
      ],
      "metadata": {
        "colab": {
          "base_uri": "https://localhost:8080/"
        },
        "id": "y7MmHy-yLYF5",
        "outputId": "af5ef421-b6a4-4374-fedc-86207badba12"
      },
      "execution_count": null,
      "outputs": [
        {
          "output_type": "stream",
          "name": "stdout",
          "text": [
            "Requirement already satisfied: word2number in /usr/local/lib/python3.11/dist-packages (1.1)\n"
          ]
        }
      ]
    },
    {
      "cell_type": "code",
      "source": [
        "print(df)"
      ],
      "metadata": {
        "colab": {
          "base_uri": "https://localhost:8080/"
        },
        "id": "GbHRNk37MtQf",
        "outputId": "be91cab8-2918-4f7b-e2d2-b72cdb7f4b24"
      },
      "execution_count": 71,
      "outputs": [
        {
          "output_type": "stream",
          "name": "stdout",
          "text": [
            "       Brand  Volume  Quantity  Price\n",
            "0     Sprite     100       120     10\n",
            "1     Sprite     200       198     20\n",
            "2     Sprite     250        80     25\n",
            "3    ThumsUp     100       115     12\n",
            "4    ThumsUp     200       120     22\n",
            "5    ThumsUp     250        90     27\n",
            "6      Pepsi     100       120     11\n",
            "7      Pepsi     200       180     21\n",
            "8      Pepsi     250       160     26\n",
            "9   CocaCola     100       114     11\n",
            "10  CocaCola     200       101     21\n",
            "11  CocaCola     250       180     26\n",
            "12     Fanta     100       135     10\n",
            "13     Fanta     200        90     19\n",
            "14     Fanta     250       171     24\n"
          ]
        }
      ]
    },
    {
      "cell_type": "code",
      "source": [
        "import pandas as pd\n",
        "\n",
        "data = {\n",
        "    'Brand': ['Sprite', 'Sprite', 'Sprite',\n",
        "              'ThumsUp', 'ThumsUp', 'ThumsUp',\n",
        "              'Pepsi', 'Pepsi', 'Pepsi',\n",
        "              'CocaCola', 'CocaCola', 'CocaCola',\n",
        "              'Fanta', 'Fanta', 'Fanta'],\n",
        "    'Volume': [100, 200, 250,\n",
        "               100, 200, 250,\n",
        "               100, 200, 250,\n",
        "               100, 200, 250,\n",
        "               100, 200, 250],\n",
        "    'Quantity': [120, 198, 80,\n",
        "                 115, 120, 90,\n",
        "                 120, 180, 160,\n",
        "                 114, 101, 180,\n",
        "                 135, 90, 171],\n",
        "    'Price': [10, 20, 25,\n",
        "              12, 22, 27,\n",
        "              11, 21, 26,\n",
        "              11, 21, 26,\n",
        "              10, 19, 24]\n",
        "}\n",
        "\n",
        "df = pd.DataFrame(data)\n",
        "\n",
        "# Save to a proper CSV file\n",
        "df.to_csv(\"/content/tableConvert.com_9zcqck (1).csv\", index=False)\n",
        "\n",
        "\n"
      ],
      "metadata": {
        "id": "ZoFVVQWCNFp0"
      },
      "execution_count": 85,
      "outputs": []
    },
    {
      "cell_type": "code",
      "source": [
        "sold_item = speech_to_text(file_name)\n",
        "brand, volume, quantity = parse_sold_item(sold_item)\n",
        "\n",
        "if brand and volume and quantity:\n",
        "    df, message = update_stock(df, f\"{brand} {volume} {quantity}\")\n",
        "    print(message)\n",
        "    speak(message)  # <- This now works\n",
        "else:\n",
        "    print(\"❌ Could not parse brand/volume/quantity from voice.\")\n",
        "    print(df)"
      ],
      "metadata": {
        "colab": {
          "base_uri": "https://localhost:8080/",
          "height": 110
        },
        "id": "1hpwaOzJPi4S",
        "outputId": "444274d3-f4ce-46c8-c044-acb4909734ab"
      },
      "execution_count": 118,
      "outputs": [
        {
          "output_type": "stream",
          "name": "stdout",
          "text": [
            "Recognized Speech: Sprite hundred two\n",
            "2 bottle(s) of Sprite 100 ml removed from stock. Total cost is 20 rupees.\n"
          ]
        },
        {
          "output_type": "display_data",
          "data": {
            "text/plain": [
              "<IPython.lib.display.Audio object>"
            ],
            "text/html": [
              "\n",
              "                <audio  controls=\"controls\" autoplay=\"autoplay\">\n",
              "                    <source src=\"data:audio/mpeg;base64,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\" type=\"audio/mpeg\" />\n",
              "                    Your browser does not support the audio element.\n",
              "                </audio>\n",
              "              "
            ]
          },
          "metadata": {}
        }
      ]
    }
  ]
}